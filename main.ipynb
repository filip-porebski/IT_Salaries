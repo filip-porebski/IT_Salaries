{
 "cells": [
  {
   "cell_type": "code",
   "execution_count": 30,
   "metadata": {},
   "outputs": [],
   "source": [
    "import pandas as pd\n",
    "import numpy as np\n",
    "import matplotlib.pyplot as plt\n",
    "import requests\n",
    "from sklearn.preprocessing import LabelEncoder\n",
    "from sklearn.model_selection import train_test_split, cross_val_score\n",
    "from sklearn.metrics import mean_squared_error, r2_score\n",
    "\n",
    "from catboost import CatBoostRegressor\n",
    "from catboost import Pool\n",
    "\n",
    "# pd.options.display.max_columns = None"
   ]
  },
  {
   "cell_type": "code",
   "execution_count": 31,
   "metadata": {},
   "outputs": [],
   "source": [
    "request = requests.get(\"https://justjoin.it/api/offers\")\n",
    "data = request.json()\n",
    "df = pd.DataFrame.from_dict(data)"
   ]
  },
  {
   "cell_type": "code",
   "execution_count": 32,
   "metadata": {},
   "outputs": [],
   "source": [
    "contract_type_column = lambda data: data[0][\"type\"]\n",
    "salary_from_type_column = lambda data: data[0][\"salary\"][\"from\"] if data[0][\"salary\"] is not None else data[0][\"salary\"]\n",
    "salary_to_type_column = lambda data: data[0][\"salary\"][\"to\"] if data[0][\"salary\"] is not None else data[0][\"salary\"]\n",
    "currency_type_column = lambda data: data[0][\"salary\"][\"currency\"] if data[0][\"salary\"] is not None else data[0][\"salary\"]\n",
    "\n",
    "\n",
    "df[\"contract_type\"] = df[\"employment_types\"].apply(contract_type_column)\n",
    "df[\"salary_from\"] = df[\"employment_types\"].apply(salary_from_type_column)\n",
    "df[\"salary_to\"] = df[\"employment_types\"].apply(salary_to_type_column)\n",
    "df[\"curr\"] = df[\"employment_types\"].apply(currency_type_column)\n",
    "\n",
    "df.drop(columns=[\"employment_types\"], inplace=True)"
   ]
  },
  {
   "cell_type": "code",
   "execution_count": 33,
   "metadata": {},
   "outputs": [],
   "source": [
    "df[\"skill_types\"] = df[\"skills\"].apply(lambda x: [i[\"name\"] for i in x])\n",
    "df[\"skill_values\"] = df[\"skills\"].apply(lambda x: [i[\"level\"] for i in x])\n",
    "\n",
    "df.drop(columns=[\"skills\"], inplace=True)"
   ]
  },
  {
   "cell_type": "code",
   "execution_count": 34,
   "metadata": {},
   "outputs": [
    {
     "data": {
      "text/html": [
       "<div>\n",
       "<style scoped>\n",
       "    .dataframe tbody tr th:only-of-type {\n",
       "        vertical-align: middle;\n",
       "    }\n",
       "\n",
       "    .dataframe tbody tr th {\n",
       "        vertical-align: top;\n",
       "    }\n",
       "\n",
       "    .dataframe thead th {\n",
       "        text-align: right;\n",
       "    }\n",
       "</style>\n",
       "<table border=\"1\" class=\"dataframe\">\n",
       "  <thead>\n",
       "    <tr style=\"text-align: right;\">\n",
       "      <th></th>\n",
       "      <th>title</th>\n",
       "      <th>street</th>\n",
       "      <th>city</th>\n",
       "      <th>country_code</th>\n",
       "      <th>address_text</th>\n",
       "      <th>marker_icon</th>\n",
       "      <th>workplace_type</th>\n",
       "      <th>company_name</th>\n",
       "      <th>company_url</th>\n",
       "      <th>company_size</th>\n",
       "      <th>...</th>\n",
       "      <th>open_to_hire_ukrainians</th>\n",
       "      <th>id</th>\n",
       "      <th>company_logo_url</th>\n",
       "      <th>remote</th>\n",
       "      <th>contract_type</th>\n",
       "      <th>salary_from</th>\n",
       "      <th>salary_to</th>\n",
       "      <th>curr</th>\n",
       "      <th>skill_types</th>\n",
       "      <th>skill_values</th>\n",
       "    </tr>\n",
       "  </thead>\n",
       "  <tbody>\n",
       "    <tr>\n",
       "      <th>0</th>\n",
       "      <td>Sr Software Engineer, React Components</td>\n",
       "      <td>Centrum</td>\n",
       "      <td>Gdynia</td>\n",
       "      <td>PL</td>\n",
       "      <td>Centrum, Gdynia</td>\n",
       "      <td>javascript</td>\n",
       "      <td>remote</td>\n",
       "      <td>PubNub</td>\n",
       "      <td>http://www.pubnub.com</td>\n",
       "      <td>100 - 150</td>\n",
       "      <td>...</td>\n",
       "      <td>False</td>\n",
       "      <td>pubnub-sr-software-engineer-react-components-g...</td>\n",
       "      <td>https://bucket.justjoin.it/offers/company_logo...</td>\n",
       "      <td>True</td>\n",
       "      <td>b2b</td>\n",
       "      <td>21000.0</td>\n",
       "      <td>27000.0</td>\n",
       "      <td>pln</td>\n",
       "      <td>[Teamwork, TypeScript, JavaScript]</td>\n",
       "      <td>[3, 4, 4]</td>\n",
       "    </tr>\n",
       "    <tr>\n",
       "      <th>1</th>\n",
       "      <td>Frontend Engineer</td>\n",
       "      <td>-</td>\n",
       "      <td>Wrocław</td>\n",
       "      <td>PL</td>\n",
       "      <td>-, Wrocław</td>\n",
       "      <td>javascript</td>\n",
       "      <td>partly_remote</td>\n",
       "      <td>Grid Dynamics Poland</td>\n",
       "      <td>http://www.griddynamics.com</td>\n",
       "      <td>3000+</td>\n",
       "      <td>...</td>\n",
       "      <td>False</td>\n",
       "      <td>grid-dynamics-poland-frontend-engineer-wroclaw</td>\n",
       "      <td>https://bucket.justjoin.it/offers/company_logo...</td>\n",
       "      <td>False</td>\n",
       "      <td>b2b</td>\n",
       "      <td>18000.0</td>\n",
       "      <td>26000.0</td>\n",
       "      <td>pln</td>\n",
       "      <td>[HTML / CSS, Angular 2+, JavaScript]</td>\n",
       "      <td>[5, 5, 5]</td>\n",
       "    </tr>\n",
       "    <tr>\n",
       "      <th>2</th>\n",
       "      <td>Sr Software Engineer, Full Stack</td>\n",
       "      <td>-</td>\n",
       "      <td>Dąbrowa Górnicza</td>\n",
       "      <td>PL</td>\n",
       "      <td>-, Dąbrowa Górnicza</td>\n",
       "      <td>javascript</td>\n",
       "      <td>remote</td>\n",
       "      <td>PubNub</td>\n",
       "      <td>http://www.pubnub.com</td>\n",
       "      <td>100 - 150</td>\n",
       "      <td>...</td>\n",
       "      <td>False</td>\n",
       "      <td>pubnub-sr-software-engineer-full-stack-dabrowa...</td>\n",
       "      <td>https://bucket.justjoin.it/offers/company_logo...</td>\n",
       "      <td>True</td>\n",
       "      <td>b2b</td>\n",
       "      <td>21000.0</td>\n",
       "      <td>27000.0</td>\n",
       "      <td>pln</td>\n",
       "      <td>[TypeScript, SQL, Cloud Platforms]</td>\n",
       "      <td>[4, 4, 4]</td>\n",
       "    </tr>\n",
       "  </tbody>\n",
       "</table>\n",
       "<p>3 rows × 25 columns</p>\n",
       "</div>"
      ],
      "text/plain": [
       "                                    title   street              city  \\\n",
       "0  Sr Software Engineer, React Components  Centrum            Gdynia   \n",
       "1                       Frontend Engineer        -           Wrocław   \n",
       "2        Sr Software Engineer, Full Stack        -  Dąbrowa Górnicza   \n",
       "\n",
       "  country_code         address_text marker_icon workplace_type  \\\n",
       "0           PL      Centrum, Gdynia  javascript         remote   \n",
       "1           PL           -, Wrocław  javascript  partly_remote   \n",
       "2           PL  -, Dąbrowa Górnicza  javascript         remote   \n",
       "\n",
       "           company_name                  company_url company_size  ...  \\\n",
       "0                PubNub        http://www.pubnub.com    100 - 150  ...   \n",
       "1  Grid Dynamics Poland  http://www.griddynamics.com        3000+  ...   \n",
       "2                PubNub        http://www.pubnub.com    100 - 150  ...   \n",
       "\n",
       "  open_to_hire_ukrainians                                                 id  \\\n",
       "0                   False  pubnub-sr-software-engineer-react-components-g...   \n",
       "1                   False     grid-dynamics-poland-frontend-engineer-wroclaw   \n",
       "2                   False  pubnub-sr-software-engineer-full-stack-dabrowa...   \n",
       "\n",
       "                                    company_logo_url remote  contract_type  \\\n",
       "0  https://bucket.justjoin.it/offers/company_logo...   True            b2b   \n",
       "1  https://bucket.justjoin.it/offers/company_logo...  False            b2b   \n",
       "2  https://bucket.justjoin.it/offers/company_logo...   True            b2b   \n",
       "\n",
       "   salary_from salary_to curr                           skill_types  \\\n",
       "0      21000.0   27000.0  pln    [Teamwork, TypeScript, JavaScript]   \n",
       "1      18000.0   26000.0  pln  [HTML / CSS, Angular 2+, JavaScript]   \n",
       "2      21000.0   27000.0  pln    [TypeScript, SQL, Cloud Platforms]   \n",
       "\n",
       "  skill_values  \n",
       "0    [3, 4, 4]  \n",
       "1    [5, 5, 5]  \n",
       "2    [4, 4, 4]  \n",
       "\n",
       "[3 rows x 25 columns]"
      ]
     },
     "execution_count": 34,
     "metadata": {},
     "output_type": "execute_result"
    }
   ],
   "source": [
    "df.head(3)"
   ]
  },
  {
   "cell_type": "code",
   "execution_count": 35,
   "metadata": {},
   "outputs": [
    {
     "data": {
      "image/png": "[encoded data removed]",
      "text/plain": [
       "<Figure size 432x288 with 1 Axes>"
      ]
     },
     "metadata": {
      "needs_background": "light"
     },
     "output_type": "display_data"
    }
   ],
   "source": [
    "df.groupby(\"curr\").count()[\"id\"].sort_values(ascending=False).plot(kind=\"bar\")\n",
    "plt.show()"
   ]
  },
  {
   "cell_type": "code",
   "execution_count": 36,
   "metadata": {},
   "outputs": [
    {
     "data": {
      "image/png": "[encoded data removed]",
      "text/plain": [
       "<Figure size 432x288 with 1 Axes>"
      ]
     },
     "metadata": {
      "needs_background": "light"
     },
     "output_type": "display_data"
    }
   ],
   "source": [
    "df.groupby(\"workplace_type\").count()[\"id\"].sort_values(ascending=False).plot(kind=\"bar\")\n",
    "plt.show()"
   ]
  },
  {
   "cell_type": "code",
   "execution_count": 37,
   "metadata": {},
   "outputs": [
    {
     "data": {
      "image/png": "[encoded data removed]",
      "text/plain": [
       "<Figure size 432x288 with 1 Axes>"
      ]
     },
     "metadata": {
      "needs_background": "light"
     },
     "output_type": "display_data"
    }
   ],
   "source": [
    "df.groupby(\"marker_icon\").count()[\"id\"].sort_values(ascending=False).plot(kind=\"bar\")\n",
    "plt.show()"
   ]
  },
  {
   "cell_type": "code",
   "execution_count": 38,
   "metadata": {},
   "outputs": [
    {
     "data": {
      "image/png": "[encoded data removed]",
      "text/plain": [
       "<Figure size 432x288 with 1 Axes>"
      ]
     },
     "metadata": {
      "needs_background": "light"
     },
     "output_type": "display_data"
    }
   ],
   "source": [
    "df.groupby(\"country_code\").count()[\"id\"].sort_values(ascending=False).head(3).plot(kind=\"bar\")\n",
    "plt.show()"
   ]
  },
  {
   "cell_type": "code",
   "execution_count": 39,
   "metadata": {},
   "outputs": [
    {
     "data": {
      "image/png": "[encoded data removed]",
      "text/plain": [
       "<Figure size 432x288 with 1 Axes>"
      ]
     },
     "metadata": {
      "needs_background": "light"
     },
     "output_type": "display_data"
    }
   ],
   "source": [
    "df.groupby(\"city\").count()[\"id\"].sort_values(ascending=False).head(10).plot(kind=\"bar\")\n",
    "plt.show()"
   ]
  },
  {
   "cell_type": "code",
   "execution_count": 40,
   "metadata": {},
   "outputs": [
    {
     "data": {
      "image/png": "[encoded data removed]",
      "text/plain": [
       "<Figure size 432x288 with 1 Axes>"
      ]
     },
     "metadata": {
      "needs_background": "light"
     },
     "output_type": "display_data"
    }
   ],
   "source": [
    "df.groupby(\"experience_level\").count()[\"id\"].sort_values(ascending=False).plot(kind=\"bar\")\n",
    "plt.show()\n"
   ]
  },
  {
   "cell_type": "code",
   "execution_count": 41,
   "metadata": {},
   "outputs": [
    {
     "data": {
      "image/png": "[encoded data removed]",
      "text/plain": [
       "<Figure size 432x288 with 1 Axes>"
      ]
     },
     "metadata": {
      "needs_background": "light"
     },
     "output_type": "display_data"
    }
   ],
   "source": [
    "df.groupby(\"experience_level\").mean()[\"salary_from\"].sort_values(ascending=False).plot(kind=\"bar\")\n",
    "plt.show()"
   ]
  },
  {
   "cell_type": "code",
   "execution_count": 42,
   "metadata": {},
   "outputs": [],
   "source": [
    "df.to_csv(\"salaries.csv\", index=False)"
   ]
  },
  {
   "cell_type": "code",
   "execution_count": 43,
   "metadata": {},
   "outputs": [],
   "source": [
    "df = df[df[\"country_code\"] == \"PL\"]\n"
   ]
  },
  {
   "cell_type": "code",
   "execution_count": 44,
   "metadata": {},
   "outputs": [
    {
     "name": "stdout",
     "output_type": "stream",
     "text": [
      "<class 'pandas.core.frame.DataFrame'>\n",
      "Int64Index: 9761 entries, 0 to 10156\n",
      "Data columns (total 25 columns):\n",
      " #   Column                   Non-Null Count  Dtype  \n",
      "---  ------                   --------------  -----  \n",
      " 0   title                    9761 non-null   object \n",
      " 1   street                   9759 non-null   object \n",
      " 2   city                     9761 non-null   object \n",
      " 3   country_code             9761 non-null   object \n",
      " 4   address_text             9761 non-null   object \n",
      " 5   marker_icon              9761 non-null   object \n",
      " 6   workplace_type           9761 non-null   object \n",
      " 7   company_name             9761 non-null   object \n",
      " 8   company_url              9761 non-null   object \n",
      " 9   company_size             9761 non-null   object \n",
      " 10  experience_level         9761 non-null   object \n",
      " 11  latitude                 9761 non-null   object \n",
      " 12  longitude                9761 non-null   object \n",
      " 13  published_at             9761 non-null   object \n",
      " 14  remote_interview         9761 non-null   bool   \n",
      " 15  open_to_hire_ukrainians  9761 non-null   bool   \n",
      " 16  id                       9761 non-null   object \n",
      " 17  company_logo_url         9761 non-null   object \n",
      " 18  remote                   9761 non-null   bool   \n",
      " 19  contract_type            9761 non-null   object \n",
      " 20  salary_from              7096 non-null   float64\n",
      " 21  salary_to                7096 non-null   float64\n",
      " 22  curr                     7096 non-null   object \n",
      " 23  skill_types              9761 non-null   object \n",
      " 24  skill_values             9761 non-null   object \n",
      "dtypes: bool(3), float64(2), object(20)\n",
      "memory usage: 1.7+ MB\n"
     ]
    }
   ],
   "source": [
    "df.info()"
   ]
  },
  {
   "cell_type": "code",
   "execution_count": 45,
   "metadata": {},
   "outputs": [],
   "source": [
    "df.drop(['title',\n",
    "        #  'city',\n",
    "         'street',\n",
    "         'country_code',\n",
    "         'address_text',\n",
    "         'company_name',\n",
    "         'company_url',\n",
    "         'company_size',\n",
    "         'latitude',\n",
    "         'longitude',\n",
    "         'published_at',\n",
    "         'open_to_hire_ukrainians',\n",
    "         'id',\n",
    "         'company_logo_url',\n",
    "         'skill_types',\n",
    "         'skill_values'\n",
    "         ], axis=1, inplace=True)"
   ]
  },
  {
   "cell_type": "code",
   "execution_count": 46,
   "metadata": {},
   "outputs": [],
   "source": [
    "df = df.dropna()"
   ]
  },
  {
   "cell_type": "code",
   "execution_count": 47,
   "metadata": {},
   "outputs": [],
   "source": [
    "df['remote_interview'] = df['remote_interview'].astype('int')\n",
    "df['remote'] = df['remote'].astype('int')\n",
    "df = df[df[\"curr\"] == \"pln\"]\n",
    "df.drop([\"curr\"], axis=1, inplace=True)"
   ]
  },
  {
   "cell_type": "code",
   "execution_count": 48,
   "metadata": {},
   "outputs": [],
   "source": [
    "le = LabelEncoder()\n",
    "le_columns = [\"experience_level\", \"workplace_type\", \"contract_type\"]\n",
    "df[le_columns] = df[le_columns].apply(lambda x: le.fit_transform(x))"
   ]
  },
  {
   "cell_type": "code",
   "execution_count": 49,
   "metadata": {},
   "outputs": [],
   "source": [
    "#create new column salary_mean and calculate mean salary from salary_from and salary_to\n",
    "df[\"salary_mean\"] = df.apply(lambda x: (x[\"salary_from\"] + x[\"salary_to\"]) / 2, axis=1)"
   ]
  },
  {
   "cell_type": "code",
   "execution_count": 50,
   "metadata": {},
   "outputs": [],
   "source": [
    "df.drop(['salary_from',\n",
    "         'salary_to'\n",
    "         ], axis=1, inplace=True)"
   ]
  },
  {
   "cell_type": "code",
   "execution_count": 51,
   "metadata": {},
   "outputs": [
    {
     "data": {
      "text/html": [
       "<div>\n",
       "<style scoped>\n",
       "    .dataframe tbody tr th:only-of-type {\n",
       "        vertical-align: middle;\n",
       "    }\n",
       "\n",
       "    .dataframe tbody tr th {\n",
       "        vertical-align: top;\n",
       "    }\n",
       "\n",
       "    .dataframe thead th {\n",
       "        text-align: right;\n",
       "    }\n",
       "</style>\n",
       "<table border=\"1\" class=\"dataframe\">\n",
       "  <thead>\n",
       "    <tr style=\"text-align: right;\">\n",
       "      <th></th>\n",
       "      <th>city</th>\n",
       "      <th>marker_icon</th>\n",
       "      <th>workplace_type</th>\n",
       "      <th>experience_level</th>\n",
       "      <th>remote_interview</th>\n",
       "      <th>remote</th>\n",
       "      <th>contract_type</th>\n",
       "      <th>salary_mean</th>\n",
       "    </tr>\n",
       "  </thead>\n",
       "  <tbody>\n",
       "    <tr>\n",
       "      <th>0</th>\n",
       "      <td>Gdynia</td>\n",
       "      <td>javascript</td>\n",
       "      <td>2</td>\n",
       "      <td>2</td>\n",
       "      <td>1</td>\n",
       "      <td>1</td>\n",
       "      <td>0</td>\n",
       "      <td>24000.0</td>\n",
       "    </tr>\n",
       "    <tr>\n",
       "      <th>1</th>\n",
       "      <td>Wrocław</td>\n",
       "      <td>javascript</td>\n",
       "      <td>1</td>\n",
       "      <td>2</td>\n",
       "      <td>1</td>\n",
       "      <td>0</td>\n",
       "      <td>0</td>\n",
       "      <td>22000.0</td>\n",
       "    </tr>\n",
       "    <tr>\n",
       "      <th>2</th>\n",
       "      <td>Dąbrowa Górnicza</td>\n",
       "      <td>javascript</td>\n",
       "      <td>2</td>\n",
       "      <td>2</td>\n",
       "      <td>1</td>\n",
       "      <td>1</td>\n",
       "      <td>0</td>\n",
       "      <td>24000.0</td>\n",
       "    </tr>\n",
       "    <tr>\n",
       "      <th>3</th>\n",
       "      <td>Warszawa</td>\n",
       "      <td>pm</td>\n",
       "      <td>2</td>\n",
       "      <td>1</td>\n",
       "      <td>1</td>\n",
       "      <td>1</td>\n",
       "      <td>0</td>\n",
       "      <td>18000.0</td>\n",
       "    </tr>\n",
       "    <tr>\n",
       "      <th>4</th>\n",
       "      <td>Częstochowa</td>\n",
       "      <td>mobile</td>\n",
       "      <td>2</td>\n",
       "      <td>1</td>\n",
       "      <td>1</td>\n",
       "      <td>1</td>\n",
       "      <td>0</td>\n",
       "      <td>18000.0</td>\n",
       "    </tr>\n",
       "  </tbody>\n",
       "</table>\n",
       "</div>"
      ],
      "text/plain": [
       "               city marker_icon  workplace_type  experience_level  \\\n",
       "0            Gdynia  javascript               2                 2   \n",
       "1           Wrocław  javascript               1                 2   \n",
       "2  Dąbrowa Górnicza  javascript               2                 2   \n",
       "3          Warszawa          pm               2                 1   \n",
       "4       Częstochowa      mobile               2                 1   \n",
       "\n",
       "   remote_interview  remote  contract_type  salary_mean  \n",
       "0                 1       1              0      24000.0  \n",
       "1                 1       0              0      22000.0  \n",
       "2                 1       1              0      24000.0  \n",
       "3                 1       1              0      18000.0  \n",
       "4                 1       1              0      18000.0  "
      ]
     },
     "execution_count": 51,
     "metadata": {},
     "output_type": "execute_result"
    }
   ],
   "source": [
    "df.head()"
   ]
  },
  {
   "cell_type": "code",
   "execution_count": 52,
   "metadata": {},
   "outputs": [],
   "source": [
    "df = pd.get_dummies(df, columns=[\"marker_icon\", \"city\"])\n",
    "\n",
    "features_object = df.select_dtypes(include=\"object\").columns\n",
    "df = pd.get_dummies(df, columns=features_object)"
   ]
  },
  {
   "cell_type": "code",
   "execution_count": 53,
   "metadata": {},
   "outputs": [
    {
     "data": {
      "text/html": [
       "<div>\n",
       "<style scoped>\n",
       "    .dataframe tbody tr th:only-of-type {\n",
       "        vertical-align: middle;\n",
       "    }\n",
       "\n",
       "    .dataframe tbody tr th {\n",
       "        vertical-align: top;\n",
       "    }\n",
       "\n",
       "    .dataframe thead th {\n",
       "        text-align: right;\n",
       "    }\n",
       "</style>\n",
       "<table border=\"1\" class=\"dataframe\">\n",
       "  <thead>\n",
       "    <tr style=\"text-align: right;\">\n",
       "      <th></th>\n",
       "      <th>workplace_type</th>\n",
       "      <th>experience_level</th>\n",
       "      <th>remote_interview</th>\n",
       "      <th>remote</th>\n",
       "      <th>contract_type</th>\n",
       "      <th>salary_mean</th>\n",
       "      <th>marker_icon_admin</th>\n",
       "      <th>marker_icon_analytics</th>\n",
       "      <th>marker_icon_architecture</th>\n",
       "      <th>marker_icon_c</th>\n",
       "      <th>...</th>\n",
       "      <th>city_Wieliczka</th>\n",
       "      <th>city_Wrocław</th>\n",
       "      <th>city_Wysogotowo</th>\n",
       "      <th>city_Włocławek</th>\n",
       "      <th>city_Zabierzów</th>\n",
       "      <th>city_Zabrze</th>\n",
       "      <th>city_Zielona Gora</th>\n",
       "      <th>city_Zielona Góra</th>\n",
       "      <th>city_Łódź</th>\n",
       "      <th>city_Świdnica</th>\n",
       "    </tr>\n",
       "  </thead>\n",
       "  <tbody>\n",
       "    <tr>\n",
       "      <th>0</th>\n",
       "      <td>2</td>\n",
       "      <td>2</td>\n",
       "      <td>1</td>\n",
       "      <td>1</td>\n",
       "      <td>0</td>\n",
       "      <td>24000.0</td>\n",
       "      <td>0</td>\n",
       "      <td>0</td>\n",
       "      <td>0</td>\n",
       "      <td>0</td>\n",
       "      <td>...</td>\n",
       "      <td>0</td>\n",
       "      <td>0</td>\n",
       "      <td>0</td>\n",
       "      <td>0</td>\n",
       "      <td>0</td>\n",
       "      <td>0</td>\n",
       "      <td>0</td>\n",
       "      <td>0</td>\n",
       "      <td>0</td>\n",
       "      <td>0</td>\n",
       "    </tr>\n",
       "    <tr>\n",
       "      <th>1</th>\n",
       "      <td>1</td>\n",
       "      <td>2</td>\n",
       "      <td>1</td>\n",
       "      <td>0</td>\n",
       "      <td>0</td>\n",
       "      <td>22000.0</td>\n",
       "      <td>0</td>\n",
       "      <td>0</td>\n",
       "      <td>0</td>\n",
       "      <td>0</td>\n",
       "      <td>...</td>\n",
       "      <td>0</td>\n",
       "      <td>1</td>\n",
       "      <td>0</td>\n",
       "      <td>0</td>\n",
       "      <td>0</td>\n",
       "      <td>0</td>\n",
       "      <td>0</td>\n",
       "      <td>0</td>\n",
       "      <td>0</td>\n",
       "      <td>0</td>\n",
       "    </tr>\n",
       "    <tr>\n",
       "      <th>2</th>\n",
       "      <td>2</td>\n",
       "      <td>2</td>\n",
       "      <td>1</td>\n",
       "      <td>1</td>\n",
       "      <td>0</td>\n",
       "      <td>24000.0</td>\n",
       "      <td>0</td>\n",
       "      <td>0</td>\n",
       "      <td>0</td>\n",
       "      <td>0</td>\n",
       "      <td>...</td>\n",
       "      <td>0</td>\n",
       "      <td>0</td>\n",
       "      <td>0</td>\n",
       "      <td>0</td>\n",
       "      <td>0</td>\n",
       "      <td>0</td>\n",
       "      <td>0</td>\n",
       "      <td>0</td>\n",
       "      <td>0</td>\n",
       "      <td>0</td>\n",
       "    </tr>\n",
       "    <tr>\n",
       "      <th>3</th>\n",
       "      <td>2</td>\n",
       "      <td>1</td>\n",
       "      <td>1</td>\n",
       "      <td>1</td>\n",
       "      <td>0</td>\n",
       "      <td>18000.0</td>\n",
       "      <td>0</td>\n",
       "      <td>0</td>\n",
       "      <td>0</td>\n",
       "      <td>0</td>\n",
       "      <td>...</td>\n",
       "      <td>0</td>\n",
       "      <td>0</td>\n",
       "      <td>0</td>\n",
       "      <td>0</td>\n",
       "      <td>0</td>\n",
       "      <td>0</td>\n",
       "      <td>0</td>\n",
       "      <td>0</td>\n",
       "      <td>0</td>\n",
       "      <td>0</td>\n",
       "    </tr>\n",
       "    <tr>\n",
       "      <th>4</th>\n",
       "      <td>2</td>\n",
       "      <td>1</td>\n",
       "      <td>1</td>\n",
       "      <td>1</td>\n",
       "      <td>0</td>\n",
       "      <td>18000.0</td>\n",
       "      <td>0</td>\n",
       "      <td>0</td>\n",
       "      <td>0</td>\n",
       "      <td>0</td>\n",
       "      <td>...</td>\n",
       "      <td>0</td>\n",
       "      <td>0</td>\n",
       "      <td>0</td>\n",
       "      <td>0</td>\n",
       "      <td>0</td>\n",
       "      <td>0</td>\n",
       "      <td>0</td>\n",
       "      <td>0</td>\n",
       "      <td>0</td>\n",
       "      <td>0</td>\n",
       "    </tr>\n",
       "  </tbody>\n",
       "</table>\n",
       "<p>5 rows × 103 columns</p>\n",
       "</div>"
      ],
      "text/plain": [
       "   workplace_type  experience_level  remote_interview  remote  contract_type  \\\n",
       "0               2                 2                 1       1              0   \n",
       "1               1                 2                 1       0              0   \n",
       "2               2                 2                 1       1              0   \n",
       "3               2                 1                 1       1              0   \n",
       "4               2                 1                 1       1              0   \n",
       "\n",
       "   salary_mean  marker_icon_admin  marker_icon_analytics  \\\n",
       "0      24000.0                  0                      0   \n",
       "1      22000.0                  0                      0   \n",
       "2      24000.0                  0                      0   \n",
       "3      18000.0                  0                      0   \n",
       "4      18000.0                  0                      0   \n",
       "\n",
       "   marker_icon_architecture  marker_icon_c  ...  city_Wieliczka  city_Wrocław  \\\n",
       "0                         0              0  ...               0             0   \n",
       "1                         0              0  ...               0             1   \n",
       "2                         0              0  ...               0             0   \n",
       "3                         0              0  ...               0             0   \n",
       "4                         0              0  ...               0             0   \n",
       "\n",
       "   city_Wysogotowo  city_Włocławek  city_Zabierzów  city_Zabrze  \\\n",
       "0                0               0               0            0   \n",
       "1                0               0               0            0   \n",
       "2                0               0               0            0   \n",
       "3                0               0               0            0   \n",
       "4                0               0               0            0   \n",
       "\n",
       "   city_Zielona Gora  city_Zielona Góra  city_Łódź  city_Świdnica  \n",
       "0                  0                  0          0              0  \n",
       "1                  0                  0          0              0  \n",
       "2                  0                  0          0              0  \n",
       "3                  0                  0          0              0  \n",
       "4                  0                  0          0              0  \n",
       "\n",
       "[5 rows x 103 columns]"
      ]
     },
     "execution_count": 53,
     "metadata": {},
     "output_type": "execute_result"
    }
   ],
   "source": [
    "df.head()"
   ]
  },
  {
   "cell_type": "code",
   "execution_count": 54,
   "metadata": {},
   "outputs": [],
   "source": [
    "X = df.drop([\"salary_mean\"], axis=1)\n",
    "y = df[\"salary_mean\"]"
   ]
  },
  {
   "cell_type": "code",
   "execution_count": 55,
   "metadata": {},
   "outputs": [
    {
     "name": "stdout",
     "output_type": "stream",
     "text": [
      "(5169, 102)\n",
      "(1724, 102)\n"
     ]
    }
   ],
   "source": [
    "X_train, X_test, y_train, y_test = train_test_split(X, y, random_state=42)\n",
    "\n",
    "print(X_train.shape)\n",
    "print(X_test.shape)"
   ]
  },
  {
   "cell_type": "code",
   "execution_count": 56,
   "metadata": {},
   "outputs": [],
   "source": [
    "train_dataset = Pool(X_train, y_train)\n",
    "test_dataset = Pool(X_test, y_test)\n",
    "\n",
    "catboost_model = CatBoostRegressor(iterations=1000,\n",
    "                                    learning_rate=0.1,\n",
    "                                    depth=6,\n",
    "                                    loss_function='RMSE',\n",
    "                                    eval_metric='RMSE',\n",
    "                                    random_seed=42,\n",
    "                                    silent=True)\n",
    " \n",
    "catboost_model.fit(train_dataset, eval_set=test_dataset)\n",
    "\n",
    "cv_model = cross_val_score(\n",
    "    catboost_model, X_train, y_train, cv=10, scoring=\"neg_mean_absolute_error\"\n",
    ")\n",
    "\n",
    "y_preds = catboost_model.predict(X_test)\n",
    "cv_model_mean = np.mean(cv_model)"
   ]
  },
  {
   "cell_type": "code",
   "execution_count": 57,
   "metadata": {},
   "outputs": [
    {
     "name": "stdout",
     "output_type": "stream",
     "text": [
      "Cross val score: -3162.187037332737\n",
      "RMSE:  4143.32197853337\n"
     ]
    }
   ],
   "source": [
    "print(\"Cross val score:\", cv_model_mean)\n",
    "print(\"RMSE: \", np.sqrt(mean_squared_error(y_test, y_preds)))"
   ]
  },
  {
   "cell_type": "code",
   "execution_count": 68,
   "metadata": {},
   "outputs": [],
   "source": [
    "X_test_new = pd.DataFrame(columns=X_train.columns)\n",
    "X_test_new.loc[0] = [0] * len(X_test_new.columns)"
   ]
  },
  {
   "cell_type": "code",
   "execution_count": 98,
   "metadata": {},
   "outputs": [],
   "source": [
    "X_test_new.loc[0][\"remote\"] = 1\n",
    "X_test_new.loc[0][\"city_Kraków\"] = 1\n",
    "X_test_new.loc[0][\"remote_interview\"] = 1\n",
    "X_test_new.loc[0][\"marker_icon_python\"] = 1\n",
    "X_test_new.loc[0][\"experience_level\"] = 2"
   ]
  },
  {
   "cell_type": "code",
   "execution_count": 100,
   "metadata": {},
   "outputs": [
    {
     "data": {
      "text/plain": [
       "array([18836.88837816])"
      ]
     },
     "execution_count": 100,
     "metadata": {},
     "output_type": "execute_result"
    }
   ],
   "source": [
    "catboost_model.predict(X_test_new)"
   ]
  }
 ],
 "metadata": {
  "interpreter": {
   "hash": "03438b4eb3387daf2f9d700bce0b879c60a019c96066c4bd2d31db710789146f"
  },
  "kernelspec": {
   "display_name": "Python 3.8.12 ('konda')",
   "language": "python",
   "name": "python3"
  },
  "language_info": {
   "codemirror_mode": {
    "name": "ipython",
    "version": 3
   },
   "file_extension": ".py",
   "mimetype": "text/x-python",
   "name": "python",
   "nbconvert_exporter": "python",
   "pygments_lexer": "ipython3",
   "version": "3.8.12"
  },
  "orig_nbformat": 4
 },
 "nbformat": 4,
 "nbformat_minor": 2
}
