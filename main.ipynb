{
 "cells": [
  {
   "cell_type": "code",
   "execution_count": 217,
   "metadata": {},
   "outputs": [],
   "source": [
    "import pandas as pd\n",
    "import numpy as np\n",
    "import matplotlib.pyplot as plt\n",
    "import requests as re\n",
    "import feedparser\n",
    "pd.options.display.max_columns = None"
   ]
  },
  {
   "cell_type": "code",
   "execution_count": 218,
   "metadata": {},
   "outputs": [],
   "source": [
    "request = re.get(\"https://justjoin.it/api/offers\")\n",
    "data = request.json()\n",
    "df = pd.DataFrame.from_dict(data)"
   ]
  },
  {
   "cell_type": "code",
   "execution_count": 219,
   "metadata": {},
   "outputs": [],
   "source": [
    "contract_type_column = lambda data: data[0][\"type\"]\n",
    "salary_from_type_column = lambda data: data[0][\"salary\"][\"from\"] if data[0][\"salary\"] is not None else data[0][\"salary\"]\n",
    "salary_to_type_column = lambda data: data[0][\"salary\"][\"to\"] if data[0][\"salary\"] is not None else data[0][\"salary\"]\n",
    "currency_type_column = lambda data: data[0][\"salary\"][\"currency\"] if data[0][\"salary\"] is not None else data[0][\"salary\"]\n",
    "\n",
    "\n",
    "df[\"contract_type\"] = df[\"employment_types\"].apply(contract_type_column)\n",
    "df[\"salary_from\"] = df[\"employment_types\"].apply(salary_from_type_column)\n",
    "df[\"salary_to\"] = df[\"employment_types\"].apply(salary_to_type_column)\n",
    "df[\"curr\"] = df[\"employment_types\"].apply(currency_type_column)\n",
    "\n",
    "df.drop(columns=[\"employment_types\"], inplace=True)"
   ]
  },
  {
   "cell_type": "code",
   "execution_count": 220,
   "metadata": {},
   "outputs": [],
   "source": [
    "df[\"skill_types\"] = df[\"skills\"].apply(lambda x: [i[\"name\"] for i in x])\n",
    "df[\"skill_values\"] = df[\"skills\"].apply(lambda x: [i[\"level\"] for i in x])\n",
    "\n",
    "df.drop(columns=[\"skills\"], inplace=True)"
   ]
  },
  {
   "cell_type": "code",
   "execution_count": 221,
   "metadata": {},
   "outputs": [
    {
     "data": {
      "text/html": [
       "<div>\n",
       "<style scoped>\n",
       "    .dataframe tbody tr th:only-of-type {\n",
       "        vertical-align: middle;\n",
       "    }\n",
       "\n",
       "    .dataframe tbody tr th {\n",
       "        vertical-align: top;\n",
       "    }\n",
       "\n",
       "    .dataframe thead th {\n",
       "        text-align: right;\n",
       "    }\n",
       "</style>\n",
       "<table border=\"1\" class=\"dataframe\">\n",
       "  <thead>\n",
       "    <tr style=\"text-align: right;\">\n",
       "      <th></th>\n",
       "      <th>title</th>\n",
       "      <th>street</th>\n",
       "      <th>city</th>\n",
       "      <th>country_code</th>\n",
       "      <th>address_text</th>\n",
       "      <th>marker_icon</th>\n",
       "      <th>workplace_type</th>\n",
       "      <th>company_name</th>\n",
       "      <th>company_url</th>\n",
       "      <th>company_size</th>\n",
       "      <th>experience_level</th>\n",
       "      <th>latitude</th>\n",
       "      <th>longitude</th>\n",
       "      <th>published_at</th>\n",
       "      <th>remote_interview</th>\n",
       "      <th>open_to_hire_ukrainians</th>\n",
       "      <th>id</th>\n",
       "      <th>company_logo_url</th>\n",
       "      <th>remote</th>\n",
       "      <th>contract_type</th>\n",
       "      <th>salary_from</th>\n",
       "      <th>salary_to</th>\n",
       "      <th>curr</th>\n",
       "      <th>skill_types</th>\n",
       "      <th>skill_values</th>\n",
       "    </tr>\n",
       "  </thead>\n",
       "  <tbody>\n",
       "    <tr>\n",
       "      <th>0</th>\n",
       "      <td>Remote System Administrator/DevOps</td>\n",
       "      <td>Piotrkowska 280A</td>\n",
       "      <td>Łódź</td>\n",
       "      <td>PL</td>\n",
       "      <td>Piotrkowska 280A, Łódź</td>\n",
       "      <td>admin</td>\n",
       "      <td>remote</td>\n",
       "      <td>Optimo Development</td>\n",
       "      <td>https://optimodevelopment.com/</td>\n",
       "      <td>25-50</td>\n",
       "      <td>senior</td>\n",
       "      <td>51.7458846</td>\n",
       "      <td>19.4618584</td>\n",
       "      <td>2022-03-27T13:00:14.623Z</td>\n",
       "      <td>True</td>\n",
       "      <td>False</td>\n",
       "      <td>optimo-development-systems-administrator-devop...</td>\n",
       "      <td>https://bucket.justjoin.it/offers/company_logo...</td>\n",
       "      <td>True</td>\n",
       "      <td>b2b</td>\n",
       "      <td>15000.0</td>\n",
       "      <td>20000.0</td>\n",
       "      <td>pln</td>\n",
       "      <td>[Amazon Web Services, Google Cloud, Linux]</td>\n",
       "      <td>[4, 4, 5]</td>\n",
       "    </tr>\n",
       "    <tr>\n",
       "      <th>1</th>\n",
       "      <td>Frontend Developer</td>\n",
       "      <td>-</td>\n",
       "      <td>Białystok</td>\n",
       "      <td>PL</td>\n",
       "      <td>-, Białystok</td>\n",
       "      <td>javascript</td>\n",
       "      <td>remote</td>\n",
       "      <td>dentsu Polska</td>\n",
       "      <td>https://www.dentsu.com/pl/pl/</td>\n",
       "      <td>&lt;700</td>\n",
       "      <td>mid</td>\n",
       "      <td>53.1324886</td>\n",
       "      <td>23.1688403</td>\n",
       "      <td>2022-03-27T13:00:14.623Z</td>\n",
       "      <td>True</td>\n",
       "      <td>True</td>\n",
       "      <td>dentsu-polska-frontend-developer-bialystok</td>\n",
       "      <td>https://bucket.justjoin.it/offers/company_logo...</td>\n",
       "      <td>True</td>\n",
       "      <td>permanent</td>\n",
       "      <td>10000.0</td>\n",
       "      <td>14000.0</td>\n",
       "      <td>pln</td>\n",
       "      <td>[ReactJS, JavaScript]</td>\n",
       "      <td>[4, 4]</td>\n",
       "    </tr>\n",
       "    <tr>\n",
       "      <th>2</th>\n",
       "      <td>iOS Developer - branża bankowa</td>\n",
       "      <td>Mokotowska 1</td>\n",
       "      <td>Warszawa</td>\n",
       "      <td>PL</td>\n",
       "      <td>Mokotowska 1, Warszawa</td>\n",
       "      <td>mobile</td>\n",
       "      <td>remote</td>\n",
       "      <td>ASTEK Polska</td>\n",
       "      <td>http://astek.pl/</td>\n",
       "      <td>1700</td>\n",
       "      <td>mid</td>\n",
       "      <td>52.2177616</td>\n",
       "      <td>21.0157913</td>\n",
       "      <td>2022-03-27T13:00:14.623Z</td>\n",
       "      <td>False</td>\n",
       "      <td>True</td>\n",
       "      <td>astek-polska-ios-developer-branza-bankowa</td>\n",
       "      <td>https://bucket.justjoin.it/offers/company_logo...</td>\n",
       "      <td>True</td>\n",
       "      <td>b2b</td>\n",
       "      <td>25000.0</td>\n",
       "      <td>29400.0</td>\n",
       "      <td>pln</td>\n",
       "      <td>[Git, Objective-C, Swift]</td>\n",
       "      <td>[3, 3, 3]</td>\n",
       "    </tr>\n",
       "    <tr>\n",
       "      <th>3</th>\n",
       "      <td>PHP Back-end Developer</td>\n",
       "      <td>Kuźnicza 10</td>\n",
       "      <td>Wrocław</td>\n",
       "      <td>PL</td>\n",
       "      <td>Kuźnicza 10, Wrocław</td>\n",
       "      <td>php</td>\n",
       "      <td>remote</td>\n",
       "      <td>eobuwie.pl</td>\n",
       "      <td>https://www.eobuwie.com.pl/praca/</td>\n",
       "      <td>50-70</td>\n",
       "      <td>mid</td>\n",
       "      <td>51.1109815</td>\n",
       "      <td>17.0340509</td>\n",
       "      <td>2022-03-27T13:00:14.623Z</td>\n",
       "      <td>True</td>\n",
       "      <td>True</td>\n",
       "      <td>eobuwie-pl-php-developer</td>\n",
       "      <td>https://bucket.justjoin.it/offers/company_logo...</td>\n",
       "      <td>True</td>\n",
       "      <td>permanent</td>\n",
       "      <td>12000.0</td>\n",
       "      <td>17000.0</td>\n",
       "      <td>pln</td>\n",
       "      <td>[PHP, REST API, OOP]</td>\n",
       "      <td>[3, 3, 3]</td>\n",
       "    </tr>\n",
       "    <tr>\n",
       "      <th>4</th>\n",
       "      <td>Java Software Engineer/System Architect</td>\n",
       "      <td>Anny Jagielonki 26</td>\n",
       "      <td>Gliwice</td>\n",
       "      <td>PL</td>\n",
       "      <td>Anny Jagielonki 26, Gliwice</td>\n",
       "      <td>java</td>\n",
       "      <td>partly_remote</td>\n",
       "      <td>BEUMER Group Poland</td>\n",
       "      <td>https://www.beumergroup.com/</td>\n",
       "      <td>1000+</td>\n",
       "      <td>senior</td>\n",
       "      <td>50.3518781</td>\n",
       "      <td>18.6149537</td>\n",
       "      <td>2022-03-27T13:00:14.623Z</td>\n",
       "      <td>True</td>\n",
       "      <td>False</td>\n",
       "      <td>beumer-group-poland-java-software-engineer-sys...</td>\n",
       "      <td>https://bucket.justjoin.it/offers/company_logo...</td>\n",
       "      <td>False</td>\n",
       "      <td>b2b</td>\n",
       "      <td>11800.0</td>\n",
       "      <td>20400.0</td>\n",
       "      <td>pln</td>\n",
       "      <td>[Angular 2+, HTML5, Java]</td>\n",
       "      <td>[4, 4, 5]</td>\n",
       "    </tr>\n",
       "  </tbody>\n",
       "</table>\n",
       "</div>"
      ],
      "text/plain": [
       "                                     title              street       city  \\\n",
       "0       Remote System Administrator/DevOps    Piotrkowska 280A       Łódź   \n",
       "1                       Frontend Developer                   -  Białystok   \n",
       "2           iOS Developer - branża bankowa        Mokotowska 1   Warszawa   \n",
       "3                   PHP Back-end Developer         Kuźnicza 10    Wrocław   \n",
       "4  Java Software Engineer/System Architect  Anny Jagielonki 26    Gliwice   \n",
       "\n",
       "  country_code                 address_text marker_icon workplace_type  \\\n",
       "0           PL       Piotrkowska 280A, Łódź       admin         remote   \n",
       "1           PL                 -, Białystok  javascript         remote   \n",
       "2           PL       Mokotowska 1, Warszawa      mobile         remote   \n",
       "3           PL         Kuźnicza 10, Wrocław         php         remote   \n",
       "4           PL  Anny Jagielonki 26, Gliwice        java  partly_remote   \n",
       "\n",
       "          company_name                        company_url company_size  \\\n",
       "0   Optimo Development     https://optimodevelopment.com/        25-50   \n",
       "1        dentsu Polska      https://www.dentsu.com/pl/pl/         <700   \n",
       "2         ASTEK Polska                   http://astek.pl/         1700   \n",
       "3           eobuwie.pl  https://www.eobuwie.com.pl/praca/        50-70   \n",
       "4  BEUMER Group Poland       https://www.beumergroup.com/        1000+   \n",
       "\n",
       "  experience_level    latitude   longitude              published_at  \\\n",
       "0           senior  51.7458846  19.4618584  2022-03-27T13:00:14.623Z   \n",
       "1              mid  53.1324886  23.1688403  2022-03-27T13:00:14.623Z   \n",
       "2              mid  52.2177616  21.0157913  2022-03-27T13:00:14.623Z   \n",
       "3              mid  51.1109815  17.0340509  2022-03-27T13:00:14.623Z   \n",
       "4           senior  50.3518781  18.6149537  2022-03-27T13:00:14.623Z   \n",
       "\n",
       "   remote_interview  open_to_hire_ukrainians  \\\n",
       "0              True                    False   \n",
       "1              True                     True   \n",
       "2             False                     True   \n",
       "3              True                     True   \n",
       "4              True                    False   \n",
       "\n",
       "                                                  id  \\\n",
       "0  optimo-development-systems-administrator-devop...   \n",
       "1         dentsu-polska-frontend-developer-bialystok   \n",
       "2          astek-polska-ios-developer-branza-bankowa   \n",
       "3                           eobuwie-pl-php-developer   \n",
       "4  beumer-group-poland-java-software-engineer-sys...   \n",
       "\n",
       "                                    company_logo_url  remote contract_type  \\\n",
       "0  https://bucket.justjoin.it/offers/company_logo...    True           b2b   \n",
       "1  https://bucket.justjoin.it/offers/company_logo...    True     permanent   \n",
       "2  https://bucket.justjoin.it/offers/company_logo...    True           b2b   \n",
       "3  https://bucket.justjoin.it/offers/company_logo...    True     permanent   \n",
       "4  https://bucket.justjoin.it/offers/company_logo...   False           b2b   \n",
       "\n",
       "   salary_from  salary_to curr                                 skill_types  \\\n",
       "0      15000.0    20000.0  pln  [Amazon Web Services, Google Cloud, Linux]   \n",
       "1      10000.0    14000.0  pln                       [ReactJS, JavaScript]   \n",
       "2      25000.0    29400.0  pln                   [Git, Objective-C, Swift]   \n",
       "3      12000.0    17000.0  pln                        [PHP, REST API, OOP]   \n",
       "4      11800.0    20400.0  pln                   [Angular 2+, HTML5, Java]   \n",
       "\n",
       "  skill_values  \n",
       "0    [4, 4, 5]  \n",
       "1       [4, 4]  \n",
       "2    [3, 3, 3]  \n",
       "3    [3, 3, 3]  \n",
       "4    [4, 4, 5]  "
      ]
     },
     "execution_count": 221,
     "metadata": {},
     "output_type": "execute_result"
    }
   ],
   "source": [
    "df.head()"
   ]
  },
  {
   "cell_type": "code",
   "execution_count": 230,
   "metadata": {},
   "outputs": [
    {
     "data": {
      "image/png": "[encoded data removed]",
      "text/plain": [
       "<Figure size 432x288 with 1 Axes>"
      ]
     },
     "metadata": {
      "needs_background": "light"
     },
     "output_type": "display_data"
    }
   ],
   "source": [
    "df.groupby(\"curr\").count()[\"id\"].sort_values(ascending=False).plot(kind=\"bar\")\n",
    "plt.show()"
   ]
  },
  {
   "cell_type": "code",
   "execution_count": 233,
   "metadata": {},
   "outputs": [
    {
     "data": {
      "image/png": "[encoded data removed]",
      "text/plain": [
       "<Figure size 432x288 with 1 Axes>"
      ]
     },
     "metadata": {
      "needs_background": "light"
     },
     "output_type": "display_data"
    }
   ],
   "source": [
    "df.groupby(\"workplace_type\").count()[\"id\"].sort_values(ascending=False).plot(kind=\"bar\")\n",
    "plt.show()"
   ]
  },
  {
   "cell_type": "code",
   "execution_count": 234,
   "metadata": {},
   "outputs": [
    {
     "data": {
      "image/png": "[encoded data removed]",
      "text/plain": [
       "<Figure size 432x288 with 1 Axes>"
      ]
     },
     "metadata": {
      "needs_background": "light"
     },
     "output_type": "display_data"
    }
   ],
   "source": [
    "df.groupby(\"marker_icon\").count()[\"id\"].sort_values(ascending=False).plot(kind=\"bar\")\n",
    "plt.show()"
   ]
  },
  {
   "cell_type": "code",
   "execution_count": 244,
   "metadata": {},
   "outputs": [
    {
     "data": {
      "image/png": "[encoded data removed]",
      "text/plain": [
       "<Figure size 432x288 with 1 Axes>"
      ]
     },
     "metadata": {
      "needs_background": "light"
     },
     "output_type": "display_data"
    }
   ],
   "source": [
    "df.groupby(\"country_code\").count()[\"id\"].sort_values(ascending=False).head(3).plot(kind=\"bar\")\n",
    "plt.show()"
   ]
  },
  {
   "cell_type": "code",
   "execution_count": 262,
   "metadata": {},
   "outputs": [
    {
     "data": {
      "image/png": "[encoded data removed]",
      "text/plain": [
       "<Figure size 432x288 with 1 Axes>"
      ]
     },
     "metadata": {
      "needs_background": "light"
     },
     "output_type": "display_data"
    }
   ],
   "source": [
    "df.groupby(\"city\").count()[\"id\"].sort_values(ascending=False).head(10).plot(kind=\"bar\")\n",
    "plt.show()\n",
    "\n",
    " \n",
    " "
   ]
  },
  {
   "cell_type": "code",
   "execution_count": 265,
   "metadata": {},
   "outputs": [
    {
     "data": {
      "image/png": "[encoded data removed]",
      "text/plain": [
       "<Figure size 432x288 with 1 Axes>"
      ]
     },
     "metadata": {
      "needs_background": "light"
     },
     "output_type": "display_data"
    }
   ],
   "source": [
    "df.groupby(\"experience_level\").count()[\"id\"].sort_values(ascending=False).plot(kind=\"bar\")\n",
    "plt.show()\n"
   ]
  },
  {
   "cell_type": "code",
   "execution_count": 267,
   "metadata": {},
   "outputs": [
    {
     "data": {
      "image/png": "[encoded data removed]",
      "text/plain": [
       "<Figure size 432x288 with 1 Axes>"
      ]
     },
     "metadata": {
      "needs_background": "light"
     },
     "output_type": "display_data"
    }
   ],
   "source": [
    "df.groupby(\"experience_level\").mean()[\"salary_from\"].sort_values(ascending=False).plot(kind=\"bar\")\n",
    "plt.show()"
   ]
  },
  {
   "cell_type": "code",
   "execution_count": 271,
   "metadata": {},
   "outputs": [],
   "source": [
    "df.to_csv(\"data.csv\")"
   ]
  }
 ],
 "metadata": {
  "interpreter": {
   "hash": "03438b4eb3387daf2f9d700bce0b879c60a019c96066c4bd2d31db710789146f"
  },
  "kernelspec": {
   "display_name": "Python 3.8.12 ('konda')",
   "language": "python",
   "name": "python3"
  },
  "language_info": {
   "codemirror_mode": {
    "name": "ipython",
    "version": 3
   },
   "file_extension": ".py",
   "mimetype": "text/x-python",
   "name": "python",
   "nbconvert_exporter": "python",
   "pygments_lexer": "ipython3",
   "version": "3.8.12"
  },
  "orig_nbformat": 4
 },
 "nbformat": 4,
 "nbformat_minor": 2
}
