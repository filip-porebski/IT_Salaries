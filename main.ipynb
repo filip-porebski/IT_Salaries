{
 "cells": [
  {
   "cell_type": "code",
   "execution_count": 2,
   "metadata": {},
   "outputs": [],
   "source": [
    "import pandas as pd\n",
    "import numpy as np\n",
    "import matplotlib.pyplot as plt\n",
    "import requests as re\n",
    "import feedparser\n",
    "pd.options.display.max_columns = None"
   ]
  },
  {
   "cell_type": "code",
   "execution_count": 3,
   "metadata": {},
   "outputs": [],
   "source": [
    "request = re.get(\"https://justjoin.it/api/offers\")\n",
    "data = request.json()\n",
    "df = pd.DataFrame.from_dict(data)"
   ]
  },
  {
   "cell_type": "code",
   "execution_count": 4,
   "metadata": {},
   "outputs": [],
   "source": [
    "contract_type_column = lambda data: data[0][\"type\"]\n",
    "salary_from_type_column = lambda data: data[0][\"salary\"][\"from\"] if data[0][\"salary\"] is not None else data[0][\"salary\"]\n",
    "salary_to_type_column = lambda data: data[0][\"salary\"][\"to\"] if data[0][\"salary\"] is not None else data[0][\"salary\"]\n",
    "currency_type_column = lambda data: data[0][\"salary\"][\"currency\"] if data[0][\"salary\"] is not None else data[0][\"salary\"]\n",
    "\n",
    "\n",
    "df[\"contract_type\"] = df[\"employment_types\"].apply(contract_type_column)\n",
    "df[\"salary_from\"] = df[\"employment_types\"].apply(salary_from_type_column)\n",
    "df[\"salary_to\"] = df[\"employment_types\"].apply(salary_to_type_column)\n",
    "df[\"curr\"] = df[\"employment_types\"].apply(currency_type_column)\n",
    "\n",
    "df.drop(columns=[\"employment_types\"], inplace=True)"
   ]
  },
  {
   "cell_type": "code",
   "execution_count": 5,
   "metadata": {},
   "outputs": [],
   "source": [
    "df[\"skill_types\"] = df[\"skills\"].apply(lambda x: [i[\"name\"] for i in x])\n",
    "df[\"skill_values\"] = df[\"skills\"].apply(lambda x: [i[\"level\"] for i in x])\n",
    "\n",
    "df.drop(columns=[\"skills\"], inplace=True)"
   ]
  },
  {
   "cell_type": "code",
   "execution_count": 6,
   "metadata": {},
   "outputs": [
    {
     "data": {
      "text/html": [
       "<div>\n",
       "<style scoped>\n",
       "    .dataframe tbody tr th:only-of-type {\n",
       "        vertical-align: middle;\n",
       "    }\n",
       "\n",
       "    .dataframe tbody tr th {\n",
       "        vertical-align: top;\n",
       "    }\n",
       "\n",
       "    .dataframe thead th {\n",
       "        text-align: right;\n",
       "    }\n",
       "</style>\n",
       "<table border=\"1\" class=\"dataframe\">\n",
       "  <thead>\n",
       "    <tr style=\"text-align: right;\">\n",
       "      <th></th>\n",
       "      <th>title</th>\n",
       "      <th>street</th>\n",
       "      <th>city</th>\n",
       "      <th>country_code</th>\n",
       "      <th>address_text</th>\n",
       "      <th>marker_icon</th>\n",
       "      <th>workplace_type</th>\n",
       "      <th>company_name</th>\n",
       "      <th>company_url</th>\n",
       "      <th>company_size</th>\n",
       "      <th>experience_level</th>\n",
       "      <th>latitude</th>\n",
       "      <th>longitude</th>\n",
       "      <th>published_at</th>\n",
       "      <th>remote_interview</th>\n",
       "      <th>open_to_hire_ukrainians</th>\n",
       "      <th>id</th>\n",
       "      <th>company_logo_url</th>\n",
       "      <th>remote</th>\n",
       "      <th>contract_type</th>\n",
       "      <th>salary_from</th>\n",
       "      <th>salary_to</th>\n",
       "      <th>curr</th>\n",
       "      <th>skill_types</th>\n",
       "      <th>skill_values</th>\n",
       "    </tr>\n",
       "  </thead>\n",
       "  <tbody>\n",
       "    <tr>\n",
       "      <th>0</th>\n",
       "      <td>Golang Developer with Kubernetes</td>\n",
       "      <td>Grzybowska</td>\n",
       "      <td>Warszawa</td>\n",
       "      <td>PL</td>\n",
       "      <td>Grzybowska, Warszawa</td>\n",
       "      <td>go</td>\n",
       "      <td>remote</td>\n",
       "      <td>HireOne IT Recruitment</td>\n",
       "      <td>http://hire1.it</td>\n",
       "      <td>40</td>\n",
       "      <td>senior</td>\n",
       "      <td>52.2346688</td>\n",
       "      <td>20.9907818</td>\n",
       "      <td>2022-03-27T14:00:13.569Z</td>\n",
       "      <td>True</td>\n",
       "      <td>False</td>\n",
       "      <td>hireone-it-recruitment-golang-developer-with-k...</td>\n",
       "      <td>https://bucket.justjoin.it/offers/company_logo...</td>\n",
       "      <td>True</td>\n",
       "      <td>b2b</td>\n",
       "      <td>25500.0</td>\n",
       "      <td>34000.0</td>\n",
       "      <td>pln</td>\n",
       "      <td>[Kubernetes, REST API, Golang]</td>\n",
       "      <td>[3, 4, 4]</td>\n",
       "    </tr>\n",
       "    <tr>\n",
       "      <th>1</th>\n",
       "      <td>Senior Python Core Developer</td>\n",
       "      <td>Zajecza 15</td>\n",
       "      <td>Warszawa</td>\n",
       "      <td>PL</td>\n",
       "      <td>Zajecza 15, Warszawa</td>\n",
       "      <td>python</td>\n",
       "      <td>partly_remote</td>\n",
       "      <td>StratsLab</td>\n",
       "      <td>https://www.stratslab.com/</td>\n",
       "      <td>11-50</td>\n",
       "      <td>senior</td>\n",
       "      <td>52.2381841</td>\n",
       "      <td>21.0251211</td>\n",
       "      <td>2022-03-27T14:00:13.569Z</td>\n",
       "      <td>True</td>\n",
       "      <td>False</td>\n",
       "      <td>stratslab-senior-python-core-developer</td>\n",
       "      <td>https://bucket.justjoin.it/offers/company_logo...</td>\n",
       "      <td>False</td>\n",
       "      <td>b2b</td>\n",
       "      <td>20000.0</td>\n",
       "      <td>28000.0</td>\n",
       "      <td>pln</td>\n",
       "      <td>[Rust, C++, Python]</td>\n",
       "      <td>[1, 1, 4]</td>\n",
       "    </tr>\n",
       "    <tr>\n",
       "      <th>2</th>\n",
       "      <td>Sr Software Engineer, Full Stack</td>\n",
       "      <td>-</td>\n",
       "      <td>Gorzów Wielkopolski</td>\n",
       "      <td>PL</td>\n",
       "      <td>-, Gorzów Wielkopolski</td>\n",
       "      <td>javascript</td>\n",
       "      <td>remote</td>\n",
       "      <td>PubNub</td>\n",
       "      <td>http://www.pubnub.com</td>\n",
       "      <td>100 - 150</td>\n",
       "      <td>senior</td>\n",
       "      <td>52.7325285</td>\n",
       "      <td>15.2369305</td>\n",
       "      <td>2022-03-27T14:00:13.569Z</td>\n",
       "      <td>True</td>\n",
       "      <td>False</td>\n",
       "      <td>pubnub-sr-software-engineer-full-stack-gorzow-...</td>\n",
       "      <td>https://bucket.justjoin.it/offers/company_logo...</td>\n",
       "      <td>True</td>\n",
       "      <td>b2b</td>\n",
       "      <td>21000.0</td>\n",
       "      <td>27000.0</td>\n",
       "      <td>pln</td>\n",
       "      <td>[TypeScript, SQL, Cloud Platforms]</td>\n",
       "      <td>[4, 4, 4]</td>\n",
       "    </tr>\n",
       "    <tr>\n",
       "      <th>3</th>\n",
       "      <td>Junior Software Engineer, Frontend</td>\n",
       "      <td>Fabryczna 20A</td>\n",
       "      <td>Kraków</td>\n",
       "      <td>PL</td>\n",
       "      <td>Fabryczna 20A, Kraków</td>\n",
       "      <td>javascript</td>\n",
       "      <td>remote</td>\n",
       "      <td>SmartRecruiters Inc.</td>\n",
       "      <td>https://www.smartrecruiters.com/</td>\n",
       "      <td>500</td>\n",
       "      <td>junior</td>\n",
       "      <td>50.0655329</td>\n",
       "      <td>19.9753659</td>\n",
       "      <td>2022-03-27T14:00:13.569Z</td>\n",
       "      <td>True</td>\n",
       "      <td>False</td>\n",
       "      <td>smartrecruiters-inc-junior-frontend-software-e...</td>\n",
       "      <td>https://bucket.justjoin.it/offers/company_logo...</td>\n",
       "      <td>True</td>\n",
       "      <td>permanent</td>\n",
       "      <td>8000.0</td>\n",
       "      <td>12000.0</td>\n",
       "      <td>pln</td>\n",
       "      <td>[JavaScript, CSS, HTML]</td>\n",
       "      <td>[2, 3, 3]</td>\n",
       "    </tr>\n",
       "    <tr>\n",
       "      <th>4</th>\n",
       "      <td>PMO Specialist (junior/regular)</td>\n",
       "      <td>Al. Jerozolimskie 146D</td>\n",
       "      <td>Warszawa</td>\n",
       "      <td>PL</td>\n",
       "      <td>Al. Jerozolimskie 146D, Warszawa</td>\n",
       "      <td>pm</td>\n",
       "      <td>remote</td>\n",
       "      <td>Nowa Era Sp. z o.o.</td>\n",
       "      <td>https://www.nowaera.pl</td>\n",
       "      <td>&lt;500</td>\n",
       "      <td>mid</td>\n",
       "      <td>52.214113</td>\n",
       "      <td>20.9543949</td>\n",
       "      <td>2022-03-27T14:00:13.569Z</td>\n",
       "      <td>True</td>\n",
       "      <td>False</td>\n",
       "      <td>nowa-era-sp-z-o-o-pmo-specialist-junior-regular</td>\n",
       "      <td>https://bucket.justjoin.it/offers/company_logo...</td>\n",
       "      <td>True</td>\n",
       "      <td>b2b</td>\n",
       "      <td>NaN</td>\n",
       "      <td>NaN</td>\n",
       "      <td>None</td>\n",
       "      <td>[English, SharePoint, MS Excel]</td>\n",
       "      <td>[4, 4, 4]</td>\n",
       "    </tr>\n",
       "  </tbody>\n",
       "</table>\n",
       "</div>"
      ],
      "text/plain": [
       "                                title                  street  \\\n",
       "0    Golang Developer with Kubernetes              Grzybowska   \n",
       "1        Senior Python Core Developer              Zajecza 15   \n",
       "2    Sr Software Engineer, Full Stack                       -   \n",
       "3  Junior Software Engineer, Frontend           Fabryczna 20A   \n",
       "4     PMO Specialist (junior/regular)  Al. Jerozolimskie 146D   \n",
       "\n",
       "                  city country_code                      address_text  \\\n",
       "0             Warszawa           PL              Grzybowska, Warszawa   \n",
       "1             Warszawa           PL              Zajecza 15, Warszawa   \n",
       "2  Gorzów Wielkopolski           PL            -, Gorzów Wielkopolski   \n",
       "3               Kraków           PL             Fabryczna 20A, Kraków   \n",
       "4             Warszawa           PL  Al. Jerozolimskie 146D, Warszawa   \n",
       "\n",
       "  marker_icon workplace_type            company_name  \\\n",
       "0          go         remote  HireOne IT Recruitment   \n",
       "1      python  partly_remote               StratsLab   \n",
       "2  javascript         remote                  PubNub   \n",
       "3  javascript         remote    SmartRecruiters Inc.   \n",
       "4          pm         remote     Nowa Era Sp. z o.o.   \n",
       "\n",
       "                        company_url company_size experience_level    latitude  \\\n",
       "0                   http://hire1.it           40           senior  52.2346688   \n",
       "1        https://www.stratslab.com/        11-50           senior  52.2381841   \n",
       "2             http://www.pubnub.com    100 - 150           senior  52.7325285   \n",
       "3  https://www.smartrecruiters.com/          500           junior  50.0655329   \n",
       "4            https://www.nowaera.pl         <500              mid   52.214113   \n",
       "\n",
       "    longitude              published_at  remote_interview  \\\n",
       "0  20.9907818  2022-03-27T14:00:13.569Z              True   \n",
       "1  21.0251211  2022-03-27T14:00:13.569Z              True   \n",
       "2  15.2369305  2022-03-27T14:00:13.569Z              True   \n",
       "3  19.9753659  2022-03-27T14:00:13.569Z              True   \n",
       "4  20.9543949  2022-03-27T14:00:13.569Z              True   \n",
       "\n",
       "   open_to_hire_ukrainians                                                 id  \\\n",
       "0                    False  hireone-it-recruitment-golang-developer-with-k...   \n",
       "1                    False             stratslab-senior-python-core-developer   \n",
       "2                    False  pubnub-sr-software-engineer-full-stack-gorzow-...   \n",
       "3                    False  smartrecruiters-inc-junior-frontend-software-e...   \n",
       "4                    False    nowa-era-sp-z-o-o-pmo-specialist-junior-regular   \n",
       "\n",
       "                                    company_logo_url  remote contract_type  \\\n",
       "0  https://bucket.justjoin.it/offers/company_logo...    True           b2b   \n",
       "1  https://bucket.justjoin.it/offers/company_logo...   False           b2b   \n",
       "2  https://bucket.justjoin.it/offers/company_logo...    True           b2b   \n",
       "3  https://bucket.justjoin.it/offers/company_logo...    True     permanent   \n",
       "4  https://bucket.justjoin.it/offers/company_logo...    True           b2b   \n",
       "\n",
       "   salary_from  salary_to  curr                         skill_types  \\\n",
       "0      25500.0    34000.0   pln      [Kubernetes, REST API, Golang]   \n",
       "1      20000.0    28000.0   pln                 [Rust, C++, Python]   \n",
       "2      21000.0    27000.0   pln  [TypeScript, SQL, Cloud Platforms]   \n",
       "3       8000.0    12000.0   pln             [JavaScript, CSS, HTML]   \n",
       "4          NaN        NaN  None     [English, SharePoint, MS Excel]   \n",
       "\n",
       "  skill_values  \n",
       "0    [3, 4, 4]  \n",
       "1    [1, 1, 4]  \n",
       "2    [4, 4, 4]  \n",
       "3    [2, 3, 3]  \n",
       "4    [4, 4, 4]  "
      ]
     },
     "execution_count": 6,
     "metadata": {},
     "output_type": "execute_result"
    }
   ],
   "source": [
    "df.head()"
   ]
  },
  {
   "cell_type": "code",
   "execution_count": 7,
   "metadata": {},
   "outputs": [
    {
     "data": {
      "image/png": "[encoded data removed]",
      "text/plain": [
       "<Figure size 432x288 with 1 Axes>"
      ]
     },
     "metadata": {
      "needs_background": "light"
     },
     "output_type": "display_data"
    }
   ],
   "source": [
    "df.groupby(\"curr\").count()[\"id\"].sort_values(ascending=False).plot(kind=\"bar\")\n",
    "plt.show()"
   ]
  },
  {
   "cell_type": "code",
   "execution_count": 8,
   "metadata": {},
   "outputs": [
    {
     "data": {
      "image/png": "[encoded data removed]",
      "text/plain": [
       "<Figure size 432x288 with 1 Axes>"
      ]
     },
     "metadata": {
      "needs_background": "light"
     },
     "output_type": "display_data"
    }
   ],
   "source": [
    "df.groupby(\"workplace_type\").count()[\"id\"].sort_values(ascending=False).plot(kind=\"bar\")\n",
    "plt.show()"
   ]
  },
  {
   "cell_type": "code",
   "execution_count": 9,
   "metadata": {},
   "outputs": [
    {
     "data": {
      "image/png": "[encoded data removed]",
      "text/plain": [
       "<Figure size 432x288 with 1 Axes>"
      ]
     },
     "metadata": {
      "needs_background": "light"
     },
     "output_type": "display_data"
    }
   ],
   "source": [
    "df.groupby(\"marker_icon\").count()[\"id\"].sort_values(ascending=False).plot(kind=\"bar\")\n",
    "plt.show()"
   ]
  },
  {
   "cell_type": "code",
   "execution_count": 10,
   "metadata": {},
   "outputs": [
    {
     "data": {
      "image/png": "[encoded data removed]",
      "text/plain": [
       "<Figure size 432x288 with 1 Axes>"
      ]
     },
     "metadata": {
      "needs_background": "light"
     },
     "output_type": "display_data"
    }
   ],
   "source": [
    "df.groupby(\"country_code\").count()[\"id\"].sort_values(ascending=False).head(3).plot(kind=\"bar\")\n",
    "plt.show()"
   ]
  },
  {
   "cell_type": "code",
   "execution_count": 11,
   "metadata": {},
   "outputs": [
    {
     "data": {
      "image/png": "[encoded data removed]",
      "text/plain": [
       "<Figure size 432x288 with 1 Axes>"
      ]
     },
     "metadata": {
      "needs_background": "light"
     },
     "output_type": "display_data"
    }
   ],
   "source": [
    "df.groupby(\"city\").count()[\"id\"].sort_values(ascending=False).head(10).plot(kind=\"bar\")\n",
    "plt.show()"
   ]
  },
  {
   "cell_type": "code",
   "execution_count": 12,
   "metadata": {},
   "outputs": [
    {
     "data": {
      "image/png": "[encoded data removed]",
      "text/plain": [
       "<Figure size 432x288 with 1 Axes>"
      ]
     },
     "metadata": {
      "needs_background": "light"
     },
     "output_type": "display_data"
    }
   ],
   "source": [
    "df.groupby(\"experience_level\").count()[\"id\"].sort_values(ascending=False).plot(kind=\"bar\")\n",
    "plt.show()\n"
   ]
  },
  {
   "cell_type": "code",
   "execution_count": 13,
   "metadata": {},
   "outputs": [
    {
     "data": {
      "image/png": "[encoded data removed]",
      "text/plain": [
       "<Figure size 432x288 with 1 Axes>"
      ]
     },
     "metadata": {
      "needs_background": "light"
     },
     "output_type": "display_data"
    }
   ],
   "source": [
    "df.groupby(\"experience_level\").mean()[\"salary_from\"].sort_values(ascending=False).plot(kind=\"bar\")\n",
    "plt.show()"
   ]
  },
  {
   "cell_type": "code",
   "execution_count": 14,
   "metadata": {},
   "outputs": [],
   "source": [
    "df.to_csv(\"salaries.csv\", index=False)"
   ]
  }
 ],
 "metadata": {
  "interpreter": {
   "hash": "03438b4eb3387daf2f9d700bce0b879c60a019c96066c4bd2d31db710789146f"
  },
  "kernelspec": {
   "display_name": "Python 3.8.12 ('konda')",
   "language": "python",
   "name": "python3"
  },
  "language_info": {
   "codemirror_mode": {
    "name": "ipython",
    "version": 3
   },
   "file_extension": ".py",
   "mimetype": "text/x-python",
   "name": "python",
   "nbconvert_exporter": "python",
   "pygments_lexer": "ipython3",
   "version": "3.8.12"
  },
  "orig_nbformat": 4
 },
 "nbformat": 4,
 "nbformat_minor": 2
}
